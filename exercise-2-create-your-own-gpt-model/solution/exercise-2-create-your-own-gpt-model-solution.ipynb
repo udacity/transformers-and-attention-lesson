{
 "cells": [
  {
   "cell_type": "markdown",
   "id": "47f54f39-d32a-4173-a35f-cfd6581d7617",
   "metadata": {},
   "source": [
    "# Exercise: Train your own transformer!\n",
    "\n",
    "In this exercise, we will construct and train a minified GPT implementation. GPT refers to the \"Generative Pre-trained Transformers\" from OpenAI, originally described in [\"Improving language understanding with unsupervised learning\"](https://s3-us-west-2.amazonaws.com/openai-assets/research-covers/language-unsupervised/language_understanding_paper.pdf). This specific GPT implementation is heavily inspired by the [minGPT implementation](https://github.com/karpathy/minGPT) provided by [Andrej Karpathy](https://github.com/karpathy/).\n",
    "\n",
    "There are three important PyTorch modules here:\n",
    "* `MultiHeadSelfAttention`: a self-attention implementation which will be provided for you;\n",
    "* `Block`: a transformer block which is repeated n_layer times in a GPT model;\n",
    "* `GPT`: the full GPT model itself, including intial embeddings, the GPT blocks, and the token decoding logic.\n",
    "\n",
    "\n",
    "The `GPT` module uses the `Block` module, which in turn uses the `MultiHeadSelfAttention` module.\n",
    "```                                   \n",
    "    ┌────────────────────────┐     \n",
    "    │          GPT           │     \n",
    "    └────────────────────────┘     \n",
    "                ▲                  \n",
    "    ┌───────────┴────────────┐     \n",
    "    │         Block          │     \n",
    "    └────────────────────────┘     \n",
    "                ▲                  \n",
    "    ┌───────────┴────────────┐     \n",
    "    │ MultiHeadSelfAttention │     \n",
    "    └────────────────────────┘     \n",
    "\n",
    "```"
   ]
  },
  {
   "cell_type": "markdown",
   "id": "25d50337",
   "metadata": {},
   "source": [
    "## Step: Import and show MultiHeadSelfAttention"
   ]
  },
  {
   "cell_type": "code",
   "execution_count": 66,
   "id": "d72f45f1",
   "metadata": {},
   "outputs": [
    {
     "name": "stdout",
     "output_type": "stream",
     "text": [
      "MultiHeadSelfAttention(\n",
      "  (key): Linear(in_features=12, out_features=12, bias=True)\n",
      "  (query): Linear(in_features=12, out_features=12, bias=True)\n",
      "  (value): Linear(in_features=12, out_features=12, bias=True)\n",
      "  (attn_drop): Dropout(p=0.1, inplace=False)\n",
      "  (resid_drop): Dropout(p=0.1, inplace=False)\n",
      "  (proj): Linear(in_features=12, out_features=12, bias=True)\n",
      ")\n"
     ]
    }
   ],
   "source": [
    "from common import GPTConfig, MultiHeadSelfAttention\n",
    "\n",
    "# Let's use a placeholder config to show how the attention layer works\n",
    "config = GPTConfig(\n",
    "    vocab_size=10,\n",
    "    n_layer=3,\n",
    "    n_embd=12,\n",
    "    n_head=4,\n",
    "    block_size=5,\n",
    ")\n",
    "\n",
    "attention = MultiHeadSelfAttention(config)\n",
    "\n",
    "print(attention)"
   ]
  },
  {
   "cell_type": "markdown",
   "id": "c036f69e-77cf-49b9-9c6d-cd2ecd449642",
   "metadata": {},
   "source": [
    "## Step: Create the Transformer Block\n",
    "\n",
    "Now we are going to create the GPT model using the `MultiHeadSelfAttention` module. Please fill in the sections marked `TODO`.\n",
    "\n",
    "In this cell, we are going to implement what is called a residual connection, which takes the form:\n",
    "\n",
    "```\n",
    "x := x + MultiHeadSelfAttention(LayerNorm(x)) + MLP(LayerNorm(x))\n",
    "```"
   ]
  },
  {
   "cell_type": "code",
   "execution_count": 67,
   "id": "0d2f2605-b960-4ef0-9917-f44e1ee24894",
   "metadata": {},
   "outputs": [
    {
     "data": {
      "text/plain": [
       "Block(\n",
       "  (ln1): LayerNorm((12,), eps=1e-05, elementwise_affine=True)\n",
       "  (ln2): LayerNorm((12,), eps=1e-05, elementwise_affine=True)\n",
       "  (attn): MultiHeadSelfAttention(\n",
       "    (key): Linear(in_features=12, out_features=12, bias=True)\n",
       "    (query): Linear(in_features=12, out_features=12, bias=True)\n",
       "    (value): Linear(in_features=12, out_features=12, bias=True)\n",
       "    (attn_drop): Dropout(p=0.1, inplace=False)\n",
       "    (resid_drop): Dropout(p=0.1, inplace=False)\n",
       "    (proj): Linear(in_features=12, out_features=12, bias=True)\n",
       "  )\n",
       "  (mlp): Sequential(\n",
       "    (0): Linear(in_features=12, out_features=48, bias=True)\n",
       "    (1): GELU(approximate='none')\n",
       "    (2): Linear(in_features=48, out_features=12, bias=True)\n",
       "    (3): Dropout(p=0.1, inplace=False)\n",
       "  )\n",
       ")"
      ]
     },
     "execution_count": 67,
     "metadata": {},
     "output_type": "execute_result"
    }
   ],
   "source": [
    "import torch.nn as nn\n",
    "from common import MultiHeadSelfAttention\n",
    "\n",
    "\n",
    "class Block(nn.Module):\n",
    "    \"\"\"an unassuming Transformer block\"\"\"\n",
    "\n",
    "    # === EXERCISE PART 1 START: CONSTRUCT A TRANSFORMER BLOCK ===\n",
    "    def __init__(self, config):\n",
    "        super().__init__()\n",
    "        self.ln1 = nn.LayerNorm(config.n_embd)\n",
    "        self.ln2 = nn.LayerNorm(config.n_embd)\n",
    "\n",
    "        # TODO: Instantiate the MultiHeadSelfAttention module\n",
    "        # self.attn = <TODO>\n",
    "        self.attn = MultiHeadSelfAttention(config)  # Solution\n",
    "\n",
    "        self.mlp = nn.Sequential(\n",
    "            nn.Linear(config.n_embd, 4 * config.n_embd),\n",
    "            nn.GELU(),\n",
    "            nn.Linear(4 * config.n_embd, config.n_embd),\n",
    "            nn.Dropout(config.resid_pdrop),\n",
    "        )\n",
    "\n",
    "    def forward(self, x):\n",
    "        # TODO: implement a residual connection of the following form\n",
    "        # x := x + MultiHeadSelfAttention(LayerNorm(x)) + MLP(LayerNorm(x))\n",
    "\n",
    "        # Hint: MultiHeadSelfAttention, LayerNorm, and MLP were all instantiated in __init__\n",
    "        # and are available as properties of self, e.g. self.attn\n",
    "        # x = <TODO>\n",
    "        x = x + self.attn(self.ln1(x)) + self.mlp(self.ln2(x))  # Solution\n",
    "\n",
    "        return x\n",
    "\n",
    "    # === EXERCISE PART 1 END: CONSTRUCT A TRANSFORMER BLOCK ===\n",
    "\n",
    "\n",
    "# Check that the block instantiates\n",
    "block = Block(config)\n",
    "block"
   ]
  },
  {
   "cell_type": "code",
   "execution_count": 68,
   "id": "cc9632d1",
   "metadata": {},
   "outputs": [],
   "source": [
    "# Let's check some aspects of the block\n",
    "block = Block(config)\n",
    "assert isinstance(block.attn, MultiHeadSelfAttention)"
   ]
  },
  {
   "cell_type": "markdown",
   "id": "5956be1b",
   "metadata": {},
   "source": [
    "## Step: Let's construct the GPT module\n",
    "It's time to put it all together and make our GPT PyTorch model. As before, fill in the `TODO` sections."
   ]
  },
  {
   "cell_type": "code",
   "execution_count": 69,
   "id": "cdf27dcc",
   "metadata": {},
   "outputs": [],
   "source": [
    "import torch\n",
    "import torch.nn.functional as F\n",
    "\n",
    "\n",
    "class GPT(nn.Module):\n",
    "    \"\"\"the full GPT language model, with a context size of block_size\"\"\"\n",
    "\n",
    "    # === EXERCISE PART 2 START: COMPLETE THE GPT MODEL ===\n",
    "\n",
    "    def __init__(self, config):\n",
    "        super().__init__()\n",
    "\n",
    "        # input embedding stem\n",
    "        self.tok_emb = nn.Embedding(config.vocab_size, config.n_embd)\n",
    "        self.pos_emb = nn.Parameter(torch.zeros(1, config.block_size, config.n_embd))\n",
    "        self.drop = nn.Dropout(config.embd_pdrop)\n",
    "\n",
    "        # transformer\n",
    "        # TODO: Instantiate a sequence of N=config.n_layer transformer blocks.\n",
    "        # Hint: use nn.Sequential to chain N instances of the Block module.\n",
    "        # self.blocks = <TODO>\n",
    "        self.blocks = nn.Sequential(\n",
    "            *[Block(config) for _ in range(config.n_layer)]\n",
    "        )  # Solution\n",
    "\n",
    "        # decoder head\n",
    "        self.ln_f = nn.LayerNorm(config.n_embd)\n",
    "        self.head = nn.Linear(config.n_embd, config.vocab_size, bias=False)\n",
    "\n",
    "        self.block_size = config.block_size\n",
    "        self.apply(self._init_weights)\n",
    "\n",
    "        print(\n",
    "            \"number of parameters: {}\".format(sum(p.numel() for p in self.parameters()))\n",
    "        )\n",
    "\n",
    "    def _init_weights(self, module):\n",
    "        if isinstance(module, (nn.Linear, nn.Embedding)):\n",
    "            module.weight.data.normal_(mean=0.0, std=0.02)\n",
    "            if isinstance(module, nn.Linear) and module.bias is not None:\n",
    "                module.bias.data.zero_()\n",
    "        elif isinstance(module, nn.LayerNorm):\n",
    "            module.bias.data.zero_()\n",
    "            module.weight.data.fill_(1.0)\n",
    "\n",
    "    def get_block_size(self):\n",
    "        return self.block_size\n",
    "\n",
    "    def forward(self, idx, targets=None):\n",
    "        b, t = idx.size()\n",
    "        assert t <= self.block_size, \"Cannot forward, model block size is exhausted.\"\n",
    "\n",
    "        # Create token embeddings and add positional embeddings\n",
    "        token_embeddings = self.tok_emb(idx)  # each index maps to a (learnable) vector\n",
    "        position_embeddings = self.pos_emb[\n",
    "            :, :t, :\n",
    "        ]  # each position maps to a (learnable) vector\n",
    "        x = self.drop(token_embeddings + position_embeddings)\n",
    "\n",
    "        # TODO: Pass the embeddings through the transformer blocks, created previously in __init__\n",
    "        # x = <TODO>\n",
    "        x = self.blocks(x)  # Solution\n",
    "\n",
    "        # Decode the output of the transformer blocks\n",
    "        x = self.ln_f(x)\n",
    "        logits = self.head(x)\n",
    "\n",
    "        # If we are given some desired targets also calculate the loss, e.g. during training\n",
    "        if targets is not None:\n",
    "            loss = F.cross_entropy(\n",
    "                logits.view(-1, logits.size(-1)), targets.view(-1), ignore_index=-1\n",
    "            )\n",
    "        else:\n",
    "            loss = None\n",
    "\n",
    "        return logits, loss\n",
    "\n",
    "    # === EXERCISE PART 2 END: COMPLETE THE GPT MODEL ===\n",
    "\n",
    "    @torch.no_grad()\n",
    "    def generate(\n",
    "        self, idx, max_new_tokens, temperature=1.0, top_k=None, stop_tokens=None\n",
    "    ):\n",
    "        \"\"\"\n",
    "        Take a conditioning sequence of indices idx (LongTensor of shape (b,t)) and complete\n",
    "        the sequence max_new_tokens times, feeding the predictions back into the model each time.\n",
    "        Most likely you'll want to make sure to be in model.eval() mode of operation for this.\n",
    "        \"\"\"\n",
    "\n",
    "        # === EXERCISE PART 3 START: COMPLETE THE GENERATION LOGIC ===\n",
    "        for _ in range(max_new_tokens):\n",
    "            # if the sequence context is growing too long we must crop it at block_size\n",
    "            idx_cond = (\n",
    "                idx if idx.size(1) <= self.block_size else idx[:, -self.block_size :]\n",
    "            )\n",
    "\n",
    "            # forward the model to get the logits for the index in the sequence\n",
    "            logits, _ = self(idx_cond)\n",
    "\n",
    "            # pluck the logits at the final step and scale by desired temperature\n",
    "            logits = logits[:, -1, :] / temperature\n",
    "\n",
    "            # optionally crop the logits to only the top k options\n",
    "            if top_k is not None:\n",
    "                v, _ = torch.topk(logits, top_k)\n",
    "                logits[logits < v[:, [-1]]] = -float(\"Inf\")\n",
    "\n",
    "            # TODO: apply softmax to convert logits to (normalized) probabilities\n",
    "            # using F.softmax. Remember the dim=-1 parameter.\n",
    "            # probs = <TODO>\n",
    "            probs = F.softmax(logits, dim=-1)  # Solution\n",
    "\n",
    "            # TODO: sample from the distribution (if top_k=1 this is equivalent to greedy sampling)\n",
    "            # using torch.multinomial. You only need to sample a single token.\n",
    "            # idx_next = <TODO>\n",
    "            idx_next = torch.multinomial(probs, num_samples=1)  # Solution\n",
    "\n",
    "            # append sampled index to the running sequence and continue\n",
    "            idx = torch.cat((idx, idx_next), dim=1)\n",
    "\n",
    "            # stop prediction if we produced a stop token\n",
    "            if stop_tokens is not None and idx_next.item() in stop_tokens:\n",
    "                return idx\n",
    "        # === EXERCISE PART 3 END: COMPLETE THE GENERATION LOGIC ===\n",
    "\n",
    "        return idx"
   ]
  },
  {
   "cell_type": "code",
   "execution_count": 70,
   "id": "229e808a",
   "metadata": {},
   "outputs": [
    {
     "name": "stdout",
     "output_type": "stream",
     "text": [
      "number of parameters: 5976\n",
      "input sequence: [1, 2, 3]\n",
      "output sequence: [1, 2, 3, 1, 5, 1, 8, 1, 3, 6, 1, 3, 8, 5, 4, 3, 7, 6, 1, 9, 1, 2, 5, 9, 4, 1, 2, 0, 8, 4, 1, 9, 2]\n",
      "Success!\n"
     ]
    }
   ],
   "source": [
    "# Let's check this model runs real quickly\n",
    "\n",
    "\n",
    "model = GPT(config)\n",
    "input_seq = torch.tensor([[1, 2, 3]])\n",
    "output_seq = model.generate(input_seq, max_new_tokens=30)\n",
    "\n",
    "# Check the generated sequence shape\n",
    "assert output_seq.shape == (1, 33)\n",
    "\n",
    "print(\"input sequence:\", input_seq.tolist()[0])\n",
    "print(\"output sequence:\", output_seq.tolist()[0])\n",
    "\n",
    "print(\"Success!\")"
   ]
  },
  {
   "cell_type": "markdown",
   "id": "d5ff8012-95d6-4000-b526-952f6c275bc7",
   "metadata": {},
   "source": [
    "## Step: Load a dataset\n",
    "\n",
    "We will now train our GPT model on a dataset consisting of one- to three-digit addition problems, e.g.\n",
    "\n",
    "```\n",
    "111+222=3+30+300=333\n",
    "```\n",
    "\n",
    "We break the addition up into two steps (first `=3+30+300` and then finally `=333`) to help the model train more quickly and successfully."
   ]
  },
  {
   "cell_type": "code",
   "execution_count": 1,
   "id": "0b4aef1f",
   "metadata": {},
   "outputs": [
    {
     "name": "stdout",
     "output_type": "stream",
     "text": [
      "=== Example 11177 ===\n",
      "x = [ 0 11 11 17 10 12 11 19 15 17 16  7 17 10  7  7 19 10 16 15  1  4  4  4  4  4  4  4  4  4  4  4]\n",
      "y = [-1 -1 -1 -1 -1 -1 -1 15 17 16  7 17 10  7  7 19 10 16 15  1  4  4  4  4  4  4  4  4  4  4  4  4]\n",
      "x length = 32\n",
      "y length = 32\n",
      "x decoded = 44+354=8+90+300=398\n",
      "y decoded = ______8+90+300=398\n",
      "=== Example 22222 ===\n",
      "x = [ 0 15 15 17 11 11 11 19  9 17 10  7 17 12  7  7 19 12 10  9  1  4  4  4  4  4  4  4  4  4  4  4]\n",
      "y = [-1 -1 -1 -1 -1 -1 -1  9 17 10  7 17 12  7  7 19 12 10  9  1  4  4  4  4  4  4  4  4  4  4  4  4]\n",
      "x length = 32\n",
      "y length = 32\n",
      "x decoded = 88+444=2+30+500=532\n",
      "y decoded = ______2+30+500=532\n"
     ]
    }
   ],
   "source": [
    "# Run this cell to create a dataset. No modifications are needed.\n",
    "\n",
    "import numpy as np\n",
    "from common import AdditionDataset, CharacterTokenizer\n",
    "\n",
    "BLOCK_SIZE = 32\n",
    "\n",
    "tokenizer = CharacterTokenizer(\n",
    "    characters=[\"0\", \"1\", \"2\", \"3\", \"4\", \"5\", \"6\", \"7\", \"8\", \"9\", \"+\", \" \", \"=\"],\n",
    "    model_max_length=BLOCK_SIZE,\n",
    ")\n",
    "\n",
    "dataset = AdditionDataset(\n",
    "    tokenizer=tokenizer,\n",
    "    block_size=BLOCK_SIZE,\n",
    "    numbers=list(range(0, 1000, 2)),\n",
    "    include_intermediate_steps=True,\n",
    ")\n",
    "\n",
    "for ix in [11177, 22222]:\n",
    "    x, y = dataset[ix]\n",
    "\n",
    "    print(f\"=== Example {ix} ===\")\n",
    "\n",
    "    np.set_printoptions(linewidth=999)\n",
    "    print(f\"x = {x.numpy()}\")\n",
    "    print(f\"y = {y.numpy()}\")\n",
    "\n",
    "    # show lengths\n",
    "    print(f\"x length = {len(x)}\")\n",
    "    print(f\"y length = {len(y)}\")\n",
    "\n",
    "    # print x decoded\n",
    "    x = tokenizer.decode(x, skip_special_tokens=True)\n",
    "    print(f\"x decoded = {x}\")\n",
    "\n",
    "    # print y decoded, replacing the -1 token with _\n",
    "    num_unknowns = y.tolist().count(-1)\n",
    "    y = tokenizer.decode(y[num_unknowns:], skip_special_tokens=True)\n",
    "    print(f\"y decoded = {'_'*(num_unknowns-1)}{y}\")"
   ]
  },
  {
   "cell_type": "markdown",
   "id": "40a0627c",
   "metadata": {},
   "source": [
    "Let's take a minute to examine our dataset.\n",
    "\n",
    "* What do you notice about the x, the input, and y the target?\n",
    "* Are they the same length?\n",
    "* What can you say about the alignment of the sequences?\n",
    "* What else is different between them?"
   ]
  },
  {
   "cell_type": "markdown",
   "id": "3e8d622a",
   "metadata": {},
   "source": [
    "# Step: Train the model!\n",
    "\n",
    "Now we will train a small GPT model using this dataset. Along the way we should see how the model's performance improves on real data."
   ]
  },
  {
   "cell_type": "code",
   "execution_count": 72,
   "id": "d76955ef",
   "metadata": {},
   "outputs": [
    {
     "name": "stdout",
     "output_type": "stream",
     "text": [
      "number of parameters: 88368\n",
      "Using device: mps\n"
     ]
    }
   ],
   "source": [
    "# Instantiate the model and a trainer. No modifications are needed.\n",
    "\n",
    "from common import GPTConfig, Trainer, TrainerConfig\n",
    "\n",
    "# instantiate a mini-GPT type model\n",
    "model_config = GPTConfig(\n",
    "    vocab_size=tokenizer.vocab_size,\n",
    "    block_size=BLOCK_SIZE,\n",
    "    n_layer=3,\n",
    "    n_head=3,\n",
    "    n_embd=48,\n",
    ")\n",
    "\n",
    "model = GPT(model_config)\n",
    "\n",
    "# create a trainer\n",
    "train_config = TrainerConfig(\n",
    "    max_epochs=1,\n",
    "    batch_size=1000,\n",
    "    learning_rate=4e-3,\n",
    ")\n",
    "\n",
    "trainer = Trainer(model, dataset, train_config)\n",
    "\n",
    "# Print the device the trainer will use (cpu, gpu, ...)\n",
    "print(f\"Using device: {trainer.device}\")"
   ]
  },
  {
   "cell_type": "code",
   "execution_count": 73,
   "id": "7d62900f",
   "metadata": {},
   "outputs": [
    {
     "name": "stdout",
     "output_type": "stream",
     "text": [
      "❌ input->output: [CLS]550+84= 👉 [UNK]9+4064+++4[MASK][RESERVED]4[MASK][CLS] expected: 634, got: None\n",
      "❌ input->output: [CLS]558+504= 👉 49[MASK][RESERVED][RESERVED]9064064[MASK][RESERVED][RESERVED][RESERVED][RESERVED]064[MASK][MASK][RESERVED][RESERVED][RESERVED][RESERVED]064[RESERVED][RESERVED][RESERVED] expected: 1062, got: None\n",
      "❌ input->output: [CLS]278+88= 👉 [UNK]2364[MASK][MASK][MASK][RESERVED][RESERVED]9[MASK][RESERVED][RESERVED]0649064[MASK][MASK][MASK][MASK][RESERVED][RESERVED]06[RESERVED][RESERVED][RESERVED] expected: 366, got: None\n",
      "❌ input->output: [CLS]422+740= 👉 =[UNK]94906444++444[MASK]9[MASK][RESERVED][MASK][RESERVED][RESERVED]0[SEP] expected: 1162, got: None\n",
      "❌ input->output: [CLS]760+660= 👉 64[MASK][MASK][MASK][RESERVED][RESERVED][RESERVED][RESERVED][RESERVED]4[MASK][MASK][RESERVED][RESERVED][RESERVED][MASK][MASK][MASK][MASK][MASK][MASK][MASK][MASK][MASK][MASK][RESERVED][RESERVED][RESERVED][RESERVED][RESERVED][RESERVED] expected: 1420, got: None\n",
      "❌ input->output: [CLS]256+630= 👉 =9064[MASK][RESERVED][MASK][MASK][RESERVED][RESERVED][RESERVED]0[MASK][RESERVED][RESERVED][RESERVED][RESERVED][RESERVED][RESERVED][MASK][MASK][MASK][MASK][MASK][MASK][RESERVED][RESERVED][RESERVED][RESERVED][RESERVED][RESERVED] expected: 886, got: 9064\n",
      "❌ input->output: [CLS]120+672= 👉 [UNK] =64++4[MASK][RESERVED][RESERVED][RESERVED]06[CLS] expected: 792, got: 64\n",
      "❌ input->output: [CLS]94+418= 👉 [UNK]44[RESERVED][RESERVED][RESERVED][RESERVED][RESERVED]06490644[MASK][RESERVED][RESERVED][RESERVED][RESERVED][MASK][RESERVED][RESERVED][MASK][MASK][CLS] expected: 512, got: None\n",
      "❌ input->output: [CLS]464+796= 👉 [UNK][RESERVED][RESERVED][RESERVED]064[MASK][RESERVED][RESERVED][RESERVED][RESERVED][RESERVED][RESERVED][MASK][MASK][RESERVED][RESERVED][RESERVED][RESERVED][RESERVED][RESERVED][RESERVED][RESERVED][RESERVED][RESERVED][RESERVED][RESERVED][RESERVED][MASK][MASK][MASK] expected: 1260, got: None\n",
      "❌ input->output: [CLS]624+106= 👉 [UNK]90[SEP] expected: 730, got: None\n",
      "\n",
      "Correct: 0 out of 10: 0.0%\n"
     ]
    }
   ],
   "source": [
    "# Let's see the performance on real data before training. No modifications are needed.\n",
    "from common import show_examples\n",
    "\n",
    "show_examples(model, dataset, tokenizer, trainer.device, top_k=1, temperature=1.0)"
   ]
  },
  {
   "cell_type": "code",
   "execution_count": 74,
   "id": "56dbee61",
   "metadata": {},
   "outputs": [
    {
     "name": "stderr",
     "output_type": "stream",
     "text": [
      "epoch 1 iter 249: train loss 0.27091. lr 4.000000e-03: 100%|██████████| 250/250 [00:36<00:00,  6.83it/s]\n"
     ]
    },
    {
     "name": "stdout",
     "output_type": "stream",
     "text": [
      "❌ input->output: [CLS]550+84= 👉 4+70+700=774[SEP] expected: 634, got: 774\n",
      "❌ input->output: [CLS]558+504= 👉 6+90+700=796[SEP] expected: 1062, got: 796\n",
      "❌ input->output: [CLS]278+88= 👉 6+50+900=956[SEP] expected: 366, got: 956\n",
      "❌ input->output: [CLS]422+740= 👉 4+90+0+1000=1094[SEP] expected: 1162, got: 1094\n",
      "❌ input->output: [CLS]760+660= 👉 4+0+700+1000=1704[SEP] expected: 1420, got: 1704\n",
      "❌ input->output: [CLS]256+630= 👉 6+90+300=396[SEP] expected: 886, got: 396\n",
      "❌ input->output: [CLS]120+672= 👉 2+80+0+1000=1082[SEP] expected: 792, got: 1082\n",
      "❌ input->output: [CLS]94+418= 👉 6+50+500=556[SEP] expected: 512, got: 556\n",
      "❌ input->output: [CLS]464+796= 👉 0+20+100+1000=1120[SEP] expected: 1260, got: 1120\n",
      "❌ input->output: [CLS]624+106= 👉 6+70+700=776[SEP] expected: 730, got: 776\n",
      "\n",
      "Correct: 0 out of 10: 0.0%\n"
     ]
    },
    {
     "name": "stderr",
     "output_type": "stream",
     "text": [
      "epoch 1 iter 249: train loss 0.11087. lr 4.000000e-03: 100%|██████████| 250/250 [00:36<00:00,  6.90it/s]\n"
     ]
    },
    {
     "name": "stdout",
     "output_type": "stream",
     "text": [
      "❌ input->output: [CLS]550+84= 👉 4+10+600=614[SEP] expected: 634, got: 614\n",
      "✅ input->output: [CLS]558+504= 👉 2+60+0+1000=1062[SEP]\n",
      "❌ input->output: [CLS]278+88= 👉 6+0+100=108[SEP] expected: 366, got: 108\n",
      "✅ input->output: [CLS]422+740= 👉 2+60+100+1000=1162[SEP]\n",
      "❌ input->output: [CLS]760+660= 👉 0+10+300+1000=1310[SEP] expected: 1420, got: 1310\n",
      "❌ input->output: [CLS]256+630= 👉 6+80+900=986[SEP] expected: 886, got: 986\n",
      "❌ input->output: [CLS]120+672= 👉 2+0+700=702[SEP] expected: 792, got: 702\n",
      "❌ input->output: [CLS]94+418= 👉 2+30+400=632[SEP] expected: 512, got: 632\n",
      "❌ input->output: [CLS]464+796= 👉 0+60+100+1000=1160[SEP] expected: 1260, got: 1160\n",
      "✅ input->output: [CLS]624+106= 👉 0+30+700=730[SEP]\n",
      "\n",
      "Correct: 3 out of 10: 30.0%\n"
     ]
    },
    {
     "name": "stderr",
     "output_type": "stream",
     "text": [
      "epoch 1 iter 249: train loss 0.05286. lr 4.000000e-03: 100%|██████████| 250/250 [00:36<00:00,  6.84it/s]\n"
     ]
    },
    {
     "name": "stdout",
     "output_type": "stream",
     "text": [
      "✅ input->output: [CLS]550+84= 👉 4+30+600=634[SEP]\n",
      "❌ input->output: [CLS]558+504= 👉 2+60+100+1000=1162[SEP] expected: 1062, got: 1162\n",
      "❌ input->output: [CLS]278+88= 👉 6+60+100=166[SEP] expected: 366, got: 166\n",
      "❌ input->output: [CLS]422+740= 👉 2+60+0+1000=1062[SEP] expected: 1162, got: 1062\n",
      "✅ input->output: [CLS]760+660= 👉 0+20+400+1000=1420[SEP]\n",
      "✅ input->output: [CLS]256+630= 👉 6+80+800=886[SEP]\n",
      "❌ input->output: [CLS]120+672= 👉 2+90+800=892[SEP] expected: 792, got: 892\n",
      "❌ input->output: [CLS]94+418= 👉 2+20+400=422[SEP] expected: 512, got: 422\n",
      "❌ input->output: [CLS]464+796= 👉 2+50+200+1000=1252[SEP] expected: 1260, got: 1252\n",
      "❌ input->output: [CLS]624+106= 👉 0+30+800=830[SEP] expected: 730, got: 830\n",
      "\n",
      "Correct: 3 out of 10: 30.0%\n"
     ]
    },
    {
     "name": "stderr",
     "output_type": "stream",
     "text": [
      "epoch 1 iter 249: train loss 0.03351. lr 4.000000e-03: 100%|██████████| 250/250 [00:36<00:00,  6.87it/s]\n"
     ]
    },
    {
     "name": "stdout",
     "output_type": "stream",
     "text": [
      "✅ input->output: [CLS]550+84= 👉 4+30+600=634[SEP]\n",
      "✅ input->output: [CLS]558+504= 👉 2+60+0+1000=1062[SEP]\n",
      "✅ input->output: [CLS]278+88= 👉 6+60+300=366[SEP]\n",
      "❌ input->output: [CLS]422+740= 👉 2+50+100+1000=1152[SEP] expected: 1162, got: 1152\n",
      "❌ input->output: [CLS]760+660= 👉 0+30+400+1000=1430[SEP] expected: 1420, got: 1430\n",
      "✅ input->output: [CLS]256+630= 👉 6+80+800=886[SEP]\n",
      "✅ input->output: [CLS]120+672= 👉 2+90+700=792[SEP]\n",
      "❌ input->output: [CLS]94+418= 👉 2+20+600=622[SEP] expected: 512, got: 622\n",
      "❌ input->output: [CLS]464+796= 👉 0+70+200+1000=1270[SEP] expected: 1260, got: 1270\n",
      "✅ input->output: [CLS]624+106= 👉 0+30+700=730[SEP]\n",
      "\n",
      "Correct: 6 out of 10: 60.0%\n"
     ]
    },
    {
     "name": "stderr",
     "output_type": "stream",
     "text": [
      "epoch 1 iter 249: train loss 0.02021. lr 4.000000e-03: 100%|██████████| 250/250 [00:36<00:00,  6.87it/s]\n"
     ]
    },
    {
     "name": "stdout",
     "output_type": "stream",
     "text": [
      "✅ input->output: [CLS]550+84= 👉 4+30+600=634[SEP]\n",
      "✅ input->output: [CLS]558+504= 👉 2+60+0+1000=1062[SEP]\n",
      "❌ input->output: [CLS]278+88= 👉 6+70+300=376[SEP] expected: 366, got: 376\n",
      "✅ input->output: [CLS]422+740= 👉 2+60+100+1000=1162[SEP]\n",
      "❌ input->output: [CLS]760+660= 👉 0+20+300+1000=1320[SEP] expected: 1420, got: 1320\n",
      "✅ input->output: [CLS]256+630= 👉 6+80+800=886[SEP]\n",
      "✅ input->output: [CLS]120+672= 👉 2+90+700=792[SEP]\n",
      "❌ input->output: [CLS]94+418= 👉 2+20+400=422[SEP] expected: 512, got: 422\n",
      "✅ input->output: [CLS]464+796= 👉 0+60+200+1000=1260[SEP]\n",
      "❌ input->output: [CLS]624+106= 👉 0+20+700=720[SEP] expected: 730, got: 720\n",
      "\n",
      "Correct: 6 out of 10: 60.0%\n"
     ]
    },
    {
     "name": "stderr",
     "output_type": "stream",
     "text": [
      "epoch 1 iter 249: train loss 0.01330. lr 4.000000e-03: 100%|██████████| 250/250 [00:36<00:00,  6.84it/s]\n"
     ]
    },
    {
     "name": "stdout",
     "output_type": "stream",
     "text": [
      "✅ input->output: [CLS]550+84= 👉 4+30+600=634[SEP]\n",
      "✅ input->output: [CLS]558+504= 👉 2+60+0+1000=1062[SEP]\n",
      "✅ input->output: [CLS]278+88= 👉 6+60+300=366[SEP]\n",
      "✅ input->output: [CLS]422+740= 👉 2+60+100+1000=1162[SEP]\n",
      "✅ input->output: [CLS]760+660= 👉 0+20+400+1000=1420[SEP]\n",
      "✅ input->output: [CLS]256+630= 👉 6+80+800=886[SEP]\n",
      "✅ input->output: [CLS]120+672= 👉 2+90+700=792[SEP]\n",
      "✅ input->output: [CLS]94+418= 👉 2+10+500=512[SEP]\n",
      "✅ input->output: [CLS]464+796= 👉 0+60+200+1000=1260[SEP]\n",
      "✅ input->output: [CLS]624+106= 👉 0+30+700=730[SEP]\n",
      "\n",
      "Correct: 10 out of 10: 100.0%\n"
     ]
    },
    {
     "name": "stderr",
     "output_type": "stream",
     "text": [
      "epoch 1 iter 249: train loss 0.00775. lr 4.000000e-03: 100%|██████████| 250/250 [00:36<00:00,  6.85it/s]\n"
     ]
    },
    {
     "name": "stdout",
     "output_type": "stream",
     "text": [
      "✅ input->output: [CLS]550+84= 👉 4+30+600=634[SEP]\n",
      "✅ input->output: [CLS]558+504= 👉 2+60+0+1000=1062[SEP]\n",
      "❌ input->output: [CLS]278+88= 👉 6+60+200=266[SEP] expected: 366, got: 266\n",
      "✅ input->output: [CLS]422+740= 👉 2+60+100+1000=1162[SEP]\n",
      "✅ input->output: [CLS]760+660= 👉 0+20+400+1000=1420[SEP]\n",
      "✅ input->output: [CLS]256+630= 👉 6+80+800=886[SEP]\n",
      "✅ input->output: [CLS]120+672= 👉 2+90+700=792[SEP]\n",
      "✅ input->output: [CLS]94+418= 👉 2+10+500=512[SEP]\n",
      "✅ input->output: [CLS]464+796= 👉 0+60+200+1000=1260[SEP]\n",
      "✅ input->output: [CLS]624+106= 👉 0+30+700=730[SEP]\n",
      "\n",
      "Correct: 9 out of 10: 90.0%\n"
     ]
    },
    {
     "name": "stderr",
     "output_type": "stream",
     "text": [
      "epoch 1 iter 249: train loss 0.00886. lr 4.000000e-03: 100%|██████████| 250/250 [00:36<00:00,  6.84it/s]\n"
     ]
    },
    {
     "name": "stdout",
     "output_type": "stream",
     "text": [
      "✅ input->output: [CLS]550+84= 👉 4+30+600=634[SEP]\n",
      "✅ input->output: [CLS]558+504= 👉 2+60+0+1000=1062[SEP]\n",
      "✅ input->output: [CLS]278+88= 👉 6+60+300=366[SEP]\n",
      "✅ input->output: [CLS]422+740= 👉 2+60+100+1000=1162[SEP]\n",
      "✅ input->output: [CLS]760+660= 👉 0+20+400+1000=1420[SEP]\n",
      "✅ input->output: [CLS]256+630= 👉 6+80+800=886[SEP]\n",
      "❌ input->output: [CLS]120+672= 👉 2+90+800=892[SEP] expected: 792, got: 892\n",
      "✅ input->output: [CLS]94+418= 👉 2+10+500=512[SEP]\n",
      "✅ input->output: [CLS]464+796= 👉 0+60+200+1000=1260[SEP]\n",
      "✅ input->output: [CLS]624+106= 👉 0+30+700=730[SEP]\n",
      "\n",
      "Correct: 9 out of 10: 90.0%\n"
     ]
    },
    {
     "name": "stderr",
     "output_type": "stream",
     "text": [
      "epoch 1 iter 249: train loss 0.00633. lr 4.000000e-03: 100%|██████████| 250/250 [00:36<00:00,  6.82it/s]\n"
     ]
    },
    {
     "name": "stdout",
     "output_type": "stream",
     "text": [
      "✅ input->output: [CLS]550+84= 👉 4+30+600=634[SEP]\n",
      "✅ input->output: [CLS]558+504= 👉 2+60+0+1000=1062[SEP]\n",
      "✅ input->output: [CLS]278+88= 👉 6+60+300=366[SEP]\n",
      "✅ input->output: [CLS]422+740= 👉 2+60+100+1000=1162[SEP]\n",
      "✅ input->output: [CLS]760+660= 👉 0+20+400+1000=1420[SEP]\n",
      "✅ input->output: [CLS]256+630= 👉 6+80+800=886[SEP]\n",
      "✅ input->output: [CLS]120+672= 👉 2+90+700=792[SEP]\n",
      "✅ input->output: [CLS]94+418= 👉 2+10+500=512[SEP]\n",
      "✅ input->output: [CLS]464+796= 👉 0+60+200+1000=1260[SEP]\n",
      "✅ input->output: [CLS]624+106= 👉 0+30+700=730[SEP]\n",
      "\n",
      "Correct: 10 out of 10: 100.0%\n"
     ]
    },
    {
     "name": "stderr",
     "output_type": "stream",
     "text": [
      "epoch 1 iter 249: train loss 0.00473. lr 4.000000e-03: 100%|██████████| 250/250 [00:36<00:00,  6.81it/s]\n"
     ]
    },
    {
     "name": "stdout",
     "output_type": "stream",
     "text": [
      "✅ input->output: [CLS]550+84= 👉 4+30+600=634[SEP]\n",
      "✅ input->output: [CLS]558+504= 👉 2+60+0+1000=1062[SEP]\n",
      "✅ input->output: [CLS]278+88= 👉 6+60+300=366[SEP]\n",
      "✅ input->output: [CLS]422+740= 👉 2+60+100+1000=1162[SEP]\n",
      "✅ input->output: [CLS]760+660= 👉 0+20+400+1000=1420[SEP]\n",
      "✅ input->output: [CLS]256+630= 👉 6+80+800=886[SEP]\n",
      "✅ input->output: [CLS]120+672= 👉 2+90+700=792[SEP]\n",
      "✅ input->output: [CLS]94+418= 👉 2+10+500=512[SEP]\n",
      "✅ input->output: [CLS]464+796= 👉 0+60+200+1000=1260[SEP]\n",
      "✅ input->output: [CLS]624+106= 👉 0+30+700=730[SEP]\n",
      "\n",
      "Correct: 10 out of 10: 100.0%\n"
     ]
    }
   ],
   "source": [
    "# Let's train the model for an epoch, and see the performance again.\n",
    "# We will repeat this a few times to see the model improve.\n",
    "# No modifications are needed.\n",
    "\n",
    "# Note, depending on your hardware, you may need to reduce the batch size\n",
    "# if you get any out-of-memory errors.\n",
    "\n",
    "for _ in range(10):\n",
    "    trainer.train()  # train just one epoch each time\n",
    "    show_examples(model, dataset, tokenizer, trainer.device, top_k=3, temperature=1.0)"
   ]
  },
  {
   "cell_type": "code",
   "execution_count": 75,
   "id": "84566efc",
   "metadata": {},
   "outputs": [
    {
     "name": "stdout",
     "output_type": "stream",
     "text": [
      "✅ input->output: [CLS]550+84= 👉 4+30+600=634[SEP]\n",
      "✅ input->output: [CLS]558+504= 👉 2+60+0+1000=1062[SEP]\n",
      "✅ input->output: [CLS]278+88= 👉 6+60+300=366[SEP]\n",
      "✅ input->output: [CLS]422+740= 👉 2+60+100+1000=1162[SEP]\n",
      "✅ input->output: [CLS]760+660= 👉 0+20+400+1000=1420[SEP]\n",
      "✅ input->output: [CLS]256+630= 👉 6+80+800=886[SEP]\n",
      "✅ input->output: [CLS]120+672= 👉 2+90+700=792[SEP]\n",
      "✅ input->output: [CLS]94+418= 👉 2+10+500=512[SEP]\n",
      "✅ input->output: [CLS]464+796= 👉 0+60+200+1000=1260[SEP]\n",
      "✅ input->output: [CLS]624+106= 👉 0+30+700=730[SEP]\n",
      "✅ input->output: [CLS]72+376= 👉 8+40+400=448[SEP]\n",
      "✅ input->output: [CLS]630+824= 👉 4+50+400+1000=1454[SEP]\n",
      "✅ input->output: [CLS]916+372= 👉 8+80+200+1000=1288[SEP]\n",
      "✅ input->output: [CLS]246+74= 👉 0+20+300=320[SEP]\n",
      "✅ input->output: [CLS]626+158= 👉 4+80+700=784[SEP]\n",
      "✅ input->output: [CLS]414+164= 👉 8+70+500=578[SEP]\n",
      "✅ input->output: [CLS]738+126= 👉 4+60+800=864[SEP]\n",
      "✅ input->output: [CLS]600+60= 👉 0+60+600=660[SEP]\n",
      "✅ input->output: [CLS]470+110= 👉 0+80+500=580[SEP]\n",
      "✅ input->output: [CLS]28+404= 👉 2+30+400=432[SEP]\n",
      "✅ input->output: [CLS]666+658= 👉 4+20+300+1000=1324[SEP]\n",
      "✅ input->output: [CLS]224+492= 👉 6+10+700=716[SEP]\n",
      "✅ input->output: [CLS]390+406= 👉 6+90+700=796[SEP]\n",
      "✅ input->output: [CLS]984+852= 👉 6+30+800+1000=1836[SEP]\n",
      "✅ input->output: [CLS]628+342= 👉 0+70+900=970[SEP]\n",
      "✅ input->output: [CLS]824+726= 👉 0+50+500+1000=1550[SEP]\n",
      "✅ input->output: [CLS]336+830= 👉 6+60+100+1000=1166[SEP]\n",
      "❌ input->output: [CLS]380+294= 👉 4+70+500=574[SEP] expected: 674, got: 574\n",
      "✅ input->output: [CLS]78+574= 👉 2+50+600=652[SEP]\n",
      "✅ input->output: [CLS]42+280= 👉 2+20+300=322[SEP]\n",
      "\n",
      "Correct: 29 out of 30: 96.7%\n"
     ]
    }
   ],
   "source": [
    "# Let's evaluate on 30 examples. No modifications are needed.\n",
    "\n",
    "show_examples(\n",
    "    model, dataset, tokenizer, trainer.device, top_k=1, temperature=1.0, max_num=30\n",
    ")"
   ]
  },
  {
   "cell_type": "markdown",
   "id": "e7f2f37d",
   "metadata": {},
   "source": [
    "As the above cell runs, ask yourself the following questions:\n",
    "* How quickly is the loss decreasing and what do you notice about the structure of the text generation as the loss decreases?\n",
    "* What is the train loss when you start to observe correct answers?\n",
    "* What is the train loss when you start to see all correct answers?\n",
    "* If you continue training after all answers are correct, might you see more incorrect answers?"
   ]
  },
  {
   "cell_type": "markdown",
   "id": "545351ca",
   "metadata": {},
   "source": [
    "## Congrats!\n",
    "\n",
    "Congrats on training your own GPT model! Give yourself a hand! 🙌"
   ]
  }
 ],
 "metadata": {
  "kernelspec": {
   "display_name": "Python 3 (ipykernel)",
   "language": "python",
   "name": "python3"
  },
  "language_info": {
   "codemirror_mode": {
    "name": "ipython",
    "version": 3
   },
   "file_extension": ".py",
   "mimetype": "text/x-python",
   "name": "python",
   "nbconvert_exporter": "python",
   "pygments_lexer": "ipython3",
   "version": "3.10.12"
  }
 },
 "nbformat": 4,
 "nbformat_minor": 5
}
